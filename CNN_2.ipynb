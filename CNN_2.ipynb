{
 "cells": [
  {
   "cell_type": "code",
   "execution_count": 1,
   "id": "639a3720",
   "metadata": {},
   "outputs": [
    {
     "data": {
      "text/plain": [
       "'\\ninstall：\\ncurl -L -O https://github.com/conda-forge/miniforge/releases/latest/download/Miniforge3-MacOSX-arm64.sh\\nbash Miniforge3-MacOSX-arm64.sh\\n\\nconda create -n cnn-mac python=3.12\\nconda activate cnn-mac\\npip install tensorflow-macos tensorflow-metal numpy pandas opencv-python scikit-image scikit-learn\\nimport tensorflow as tf\\nprint(\"Num GPUs Available: \", len(tf.config.list_physical_devices(\\'GPU\\')))\\n'"
      ]
     },
     "execution_count": 1,
     "metadata": {},
     "output_type": "execute_result"
    }
   ],
   "source": [
    "\"\"\"\n",
    "install：\n",
    "curl -L -O https://github.com/conda-forge/miniforge/releases/latest/download/Miniforge3-MacOSX-arm64.sh\n",
    "bash Miniforge3-MacOSX-arm64.sh\n",
    "\n",
    "conda create -n cnn-mac python=3.12\n",
    "conda activate cnn-mac\n",
    "pip install tensorflow-macos tensorflow-metal numpy pandas opencv-python scikit-image scikit-learn\n",
    "import tensorflow as tf\n",
    "print(\"Num GPUs Available: \", len(tf.config.list_physical_devices('GPU')))\n",
    "\"\"\""
   ]
  },
  {
   "cell_type": "code",
   "execution_count": null,
   "id": "2fc600e46a3320dd",
   "metadata": {
    "jupyter": {
     "is_executing": true
    }
   },
   "outputs": [
    {
     "name": "stdout",
     "output_type": "stream",
     "text": [
      "Load environment successfully\n",
      "All images have been horizontally flipped and saved to 'train_ims_rever' folder with 'reverse_' prefix.\n",
      "Labels for flipped images have been added to 'train_combined.csv'.\n",
      "Start loading images...\n",
      "Images loaded, shape: (100000, 128, 128, 3)\n",
      "Training set shape: (85000, 128, 128, 3)\n",
      "Testing set shape: (15000, 128, 128, 3)\n"
     ]
    },
    {
     "data": {
      "text/plain": [
       "35"
      ]
     },
     "execution_count": 2,
     "metadata": {},
     "output_type": "execute_result"
    }
   ],
   "source": [
    "# Import required libraries\n",
    "import os\n",
    "from skimage.io import imread, imsave\n",
    "from sklearn.model_selection import train_test_split\n",
    "import numpy as np\n",
    "import pandas as pd\n",
    "import tensorflow as tf\n",
    "import cv2\n",
    "import gc\n",
    "from sklearn.preprocessing import LabelEncoder\n",
    "from sklearn.metrics import accuracy_score\n",
    "from tensorflow.keras.callbacks import EarlyStopping\n",
    "\n",
    "print(\"Load environment successfully\")\n",
    "\n",
    "# Enable GPU memory growth for TensorFlow\n",
    "physical_devices = tf.config.list_physical_devices('GPU')\n",
    "if physical_devices:\n",
    "    tf.config.experimental.set_memory_growth(physical_devices[0], True)\n",
    "\n",
    "# Create a new folder to store the flipped images\n",
    "os.makedirs('train_ims_rever', exist_ok=True)\n",
    "\n",
    "# Get all image names\n",
    "image_names = os.listdir('train_ims')\n",
    "\n",
    "# Flip images horizontally, add prefix and save them to the new folder\n",
    "for img_name in image_names:\n",
    "    img_path = os.path.join('train_ims', img_name)\n",
    "    image = imread(img_path)\n",
    "    image_reversed = np.fliplr(image)\n",
    "    reversed_img_name = 'reverse_' + img_name\n",
    "    reversed_img_path = os.path.join('train_ims_rever', reversed_img_name)\n",
    "    imsave(reversed_img_path, image_reversed)\n",
    "\n",
    "print(\"All images have been horizontally flipped and saved to 'train_ims_rever' folder with 'reverse_' prefix.\")\n",
    "\n",
    "# Read the original label file\n",
    "df = pd.read_csv('train.csv')\n",
    "\n",
    "# Create a new label file for the flipped images\n",
    "df_reversed = df.copy()\n",
    "df_reversed['im_name'] = 'reverse_' + df_reversed['im_name']\n",
    "\n",
    "# Combine the original and flipped labels\n",
    "df_combined = pd.concat([df, df_reversed], ignore_index=True)\n",
    "df_combined.to_csv('train_combined.csv', index=False)\n",
    "\n",
    "print(\"Labels for flipped images have been added to 'train_combined.csv'.\")\n",
    "\n",
    "# Read the combined label file\n",
    "df = pd.read_csv('train_combined.csv')\n",
    "labels = df['label'].values\n",
    "image_names = df['im_name'].values\n",
    "\n",
    "# Encode the labels (10 categories)\n",
    "le = LabelEncoder()\n",
    "labels = le.fit_transform(labels)\n",
    "\n",
    "# Define image size and load images\n",
    "IMG_SIZE = 128\n",
    "channels = 3  # Grayscale; change to 3 if RGB\n",
    "images = []\n",
    "print(\"Start loading images...\")\n",
    "for img_name in image_names:\n",
    "    if 'reverse_' in img_name:\n",
    "        img_path = os.path.join('train_ims_rever', img_name)\n",
    "    else:\n",
    "        img_path = os.path.join('train_ims', img_name)\n",
    "    image = cv2.imread(img_path)  # Grayscale\n",
    "    image = cv2.cvtColor(image, cv2.COLOR_BGR2RGB)\n",
    "    image = cv2.resize(image, (IMG_SIZE, IMG_SIZE))\n",
    "    images.append(image)\n",
    "\n",
    "images = np.array(images)\n",
    "images = images.reshape(-1, IMG_SIZE, IMG_SIZE, channels) / 255.0  # Normalize\n",
    "print(\"Images loaded, shape:\", images.shape)\n",
    "\n",
    "# Split data into 85% training and 15% testing\n",
    "X_train, X_test, y_train, y_test = train_test_split(images, labels, test_size=0.15, random_state=42)\n",
    "print(\"Training set shape:\", X_train.shape)\n",
    "print(\"Testing set shape:\", X_test.shape)\n",
    "del images, df, df_reversed, df_combined, image_names\n",
    "gc.collect()\n",
    "\n"
   ]
  },
  {
   "cell_type": "code",
   "execution_count": 3,
   "id": "437dab617220514d",
   "metadata": {},
   "outputs": [
    {
     "name": "stderr",
     "output_type": "stream",
     "text": [
      "2025-04-21 17:07:37.187640: I metal_plugin/src/device/metal_device.cc:1154] Metal device set to: Apple M4 Pro\n",
      "2025-04-21 17:07:37.188125: I metal_plugin/src/device/metal_device.cc:296] systemMemory: 48.00 GB\n",
      "2025-04-21 17:07:37.188131: I metal_plugin/src/device/metal_device.cc:313] maxCacheSize: 18.00 GB\n",
      "2025-04-21 17:07:37.188148: I tensorflow/core/common_runtime/pluggable_device/pluggable_device_factory.cc:305] Could not identify NUMA node of platform GPU ID 0, defaulting to 0. Your kernel may not have been built with NUMA support.\n",
      "2025-04-21 17:07:37.188163: I tensorflow/core/common_runtime/pluggable_device/pluggable_device_factory.cc:271] Created TensorFlow device (/job:localhost/replica:0/task:0/device:GPU:0 with 0 MB memory) -> physical PluggableDevice (device: 0, name: METAL, pci bus id: <undefined>)\n"
     ]
    },
    {
     "name": "stdout",
     "output_type": "stream",
     "text": [
      "Training CNN model...\n",
      "Epoch 1/45\n"
     ]
    },
    {
     "name": "stderr",
     "output_type": "stream",
     "text": [
      "2025-04-21 17:12:17.032157: I tensorflow/core/grappler/optimizers/custom_graph_optimizer_registry.cc:117] Plugin optimizer for device_type GPU is enabled.\n",
      "2025-04-21 17:12:17.040431: E tensorflow/core/grappler/optimizers/meta_optimizer.cc:961] PluggableGraphOptimizer failed: INVALID_ARGUMENT: Failed to deserialize the `graph_buf`.\n"
     ]
    },
    {
     "name": "stdout",
     "output_type": "stream",
     "text": [
      "\u001b[1m2391/2391\u001b[0m \u001b[32m━━━━━━━━━━━━━━━━━━━━\u001b[0m\u001b[37m\u001b[0m \u001b[1m0s\u001b[0m 83ms/step - accuracy: 0.4569 - loss: 1.5372"
     ]
    },
    {
     "name": "stderr",
     "output_type": "stream",
     "text": [
      "2025-04-21 17:15:40.606548: E tensorflow/core/grappler/optimizers/meta_optimizer.cc:961] PluggableGraphOptimizer failed: INVALID_ARGUMENT: Failed to deserialize the `graph_buf`.\n"
     ]
    },
    {
     "name": "stdout",
     "output_type": "stream",
     "text": [
      "\u001b[1m2391/2391\u001b[0m \u001b[32m━━━━━━━━━━━━━━━━━━━━\u001b[0m\u001b[37m\u001b[0m \u001b[1m208s\u001b[0m 86ms/step - accuracy: 0.4570 - loss: 1.5371 - val_accuracy: 0.6828 - val_loss: 0.8989\n",
      "Epoch 2/45\n",
      "\u001b[1m2391/2391\u001b[0m \u001b[32m━━━━━━━━━━━━━━━━━━━━\u001b[0m\u001b[37m\u001b[0m \u001b[1m201s\u001b[0m 84ms/step - accuracy: 0.6511 - loss: 0.9964 - val_accuracy: 0.7475 - val_loss: 0.7199\n",
      "Epoch 3/45\n",
      "\u001b[1m2391/2391\u001b[0m \u001b[32m━━━━━━━━━━━━━━━━━━━━\u001b[0m\u001b[37m\u001b[0m \u001b[1m202s\u001b[0m 84ms/step - accuracy: 0.7157 - loss: 0.8225 - val_accuracy: 0.7815 - val_loss: 0.6201\n",
      "Epoch 4/45\n",
      "\u001b[1m2391/2391\u001b[0m \u001b[32m━━━━━━━━━━━━━━━━━━━━\u001b[0m\u001b[37m\u001b[0m \u001b[1m201s\u001b[0m 84ms/step - accuracy: 0.7583 - loss: 0.6967 - val_accuracy: 0.8094 - val_loss: 0.5525\n",
      "Epoch 5/45\n",
      "\u001b[1m2391/2391\u001b[0m \u001b[32m━━━━━━━━━━━━━━━━━━━━\u001b[0m\u001b[37m\u001b[0m \u001b[1m201s\u001b[0m 84ms/step - accuracy: 0.7874 - loss: 0.6158 - val_accuracy: 0.8120 - val_loss: 0.5458\n",
      "Epoch 6/45\n",
      "\u001b[1m2391/2391\u001b[0m \u001b[32m━━━━━━━━━━━━━━━━━━━━\u001b[0m\u001b[37m\u001b[0m \u001b[1m202s\u001b[0m 84ms/step - accuracy: 0.8062 - loss: 0.5542 - val_accuracy: 0.8429 - val_loss: 0.4640\n",
      "Epoch 7/45\n",
      "\u001b[1m2391/2391\u001b[0m \u001b[32m━━━━━━━━━━━━━━━━━━━━\u001b[0m\u001b[37m\u001b[0m \u001b[1m202s\u001b[0m 84ms/step - accuracy: 0.8252 - loss: 0.5064 - val_accuracy: 0.8521 - val_loss: 0.4403\n",
      "Epoch 8/45\n",
      "\u001b[1m2391/2391\u001b[0m \u001b[32m━━━━━━━━━━━━━━━━━━━━\u001b[0m\u001b[37m\u001b[0m \u001b[1m202s\u001b[0m 84ms/step - accuracy: 0.8393 - loss: 0.4635 - val_accuracy: 0.8525 - val_loss: 0.4326\n",
      "Epoch 9/45\n",
      "\u001b[1m2391/2391\u001b[0m \u001b[32m━━━━━━━━━━━━━━━━━━━━\u001b[0m\u001b[37m\u001b[0m \u001b[1m202s\u001b[0m 85ms/step - accuracy: 0.8508 - loss: 0.4314 - val_accuracy: 0.8738 - val_loss: 0.3690\n",
      "Epoch 10/45\n",
      "\u001b[1m2391/2391\u001b[0m \u001b[32m━━━━━━━━━━━━━━━━━━━━\u001b[0m\u001b[37m\u001b[0m \u001b[1m201s\u001b[0m 84ms/step - accuracy: 0.8637 - loss: 0.3889 - val_accuracy: 0.8747 - val_loss: 0.3664\n",
      "Epoch 11/45\n",
      "\u001b[1m2391/2391\u001b[0m \u001b[32m━━━━━━━━━━━━━━━━━━━━\u001b[0m\u001b[37m\u001b[0m \u001b[1m201s\u001b[0m 84ms/step - accuracy: 0.8739 - loss: 0.3628 - val_accuracy: 0.8888 - val_loss: 0.3323\n",
      "Epoch 12/45\n",
      "\u001b[1m2391/2391\u001b[0m \u001b[32m━━━━━━━━━━━━━━━━━━━━\u001b[0m\u001b[37m\u001b[0m \u001b[1m201s\u001b[0m 84ms/step - accuracy: 0.8792 - loss: 0.3449 - val_accuracy: 0.8859 - val_loss: 0.3364\n",
      "Epoch 13/45\n",
      "\u001b[1m2391/2391\u001b[0m \u001b[32m━━━━━━━━━━━━━━━━━━━━\u001b[0m\u001b[37m\u001b[0m \u001b[1m201s\u001b[0m 84ms/step - accuracy: 0.8896 - loss: 0.3159 - val_accuracy: 0.8931 - val_loss: 0.3176\n",
      "Epoch 14/45\n",
      "\u001b[1m2391/2391\u001b[0m \u001b[32m━━━━━━━━━━━━━━━━━━━━\u001b[0m\u001b[37m\u001b[0m \u001b[1m202s\u001b[0m 84ms/step - accuracy: 0.8962 - loss: 0.3042 - val_accuracy: 0.9025 - val_loss: 0.3037\n",
      "Epoch 15/45\n",
      "\u001b[1m2391/2391\u001b[0m \u001b[32m━━━━━━━━━━━━━━━━━━━━\u001b[0m\u001b[37m\u001b[0m \u001b[1m201s\u001b[0m 84ms/step - accuracy: 0.9005 - loss: 0.2855 - val_accuracy: 0.9092 - val_loss: 0.2855\n",
      "Epoch 16/45\n",
      "\u001b[1m2391/2391\u001b[0m \u001b[32m━━━━━━━━━━━━━━━━━━━━\u001b[0m\u001b[37m\u001b[0m \u001b[1m201s\u001b[0m 84ms/step - accuracy: 0.9080 - loss: 0.2670 - val_accuracy: 0.9086 - val_loss: 0.2876\n",
      "Epoch 17/45\n",
      "\u001b[1m2391/2391\u001b[0m \u001b[32m━━━━━━━━━━━━━━━━━━━━\u001b[0m\u001b[37m\u001b[0m \u001b[1m202s\u001b[0m 84ms/step - accuracy: 0.9124 - loss: 0.2480 - val_accuracy: 0.9098 - val_loss: 0.2834\n",
      "Epoch 18/45\n",
      "\u001b[1m2391/2391\u001b[0m \u001b[32m━━━━━━━━━━━━━━━━━━━━\u001b[0m\u001b[37m\u001b[0m \u001b[1m202s\u001b[0m 84ms/step - accuracy: 0.9169 - loss: 0.2413 - val_accuracy: 0.9174 - val_loss: 0.2585\n",
      "Epoch 19/45\n",
      "\u001b[1m2391/2391\u001b[0m \u001b[32m━━━━━━━━━━━━━━━━━━━━\u001b[0m\u001b[37m\u001b[0m \u001b[1m202s\u001b[0m 84ms/step - accuracy: 0.9237 - loss: 0.2229 - val_accuracy: 0.9180 - val_loss: 0.2477\n",
      "Epoch 20/45\n",
      "\u001b[1m2391/2391\u001b[0m \u001b[32m━━━━━━━━━━━━━━━━━━━━\u001b[0m\u001b[37m\u001b[0m \u001b[1m202s\u001b[0m 84ms/step - accuracy: 0.9272 - loss: 0.2142 - val_accuracy: 0.9178 - val_loss: 0.2535\n",
      "Epoch 21/45\n",
      "\u001b[1m2391/2391\u001b[0m \u001b[32m━━━━━━━━━━━━━━━━━━━━\u001b[0m\u001b[37m\u001b[0m \u001b[1m202s\u001b[0m 84ms/step - accuracy: 0.9295 - loss: 0.2046 - val_accuracy: 0.9195 - val_loss: 0.2610\n",
      "Epoch 22/45\n",
      "\u001b[1m2391/2391\u001b[0m \u001b[32m━━━━━━━━━━━━━━━━━━━━\u001b[0m\u001b[37m\u001b[0m \u001b[1m202s\u001b[0m 84ms/step - accuracy: 0.9342 - loss: 0.1907 - val_accuracy: 0.9238 - val_loss: 0.2455\n",
      "Epoch 23/45\n",
      "\u001b[1m2391/2391\u001b[0m \u001b[32m━━━━━━━━━━━━━━━━━━━━\u001b[0m\u001b[37m\u001b[0m \u001b[1m201s\u001b[0m 84ms/step - accuracy: 0.9338 - loss: 0.1925 - val_accuracy: 0.9241 - val_loss: 0.2466\n",
      "Epoch 24/45\n",
      "\u001b[1m2391/2391\u001b[0m \u001b[32m━━━━━━━━━━━━━━━━━━━━\u001b[0m\u001b[37m\u001b[0m \u001b[1m201s\u001b[0m 84ms/step - accuracy: 0.9398 - loss: 0.1743 - val_accuracy: 0.9268 - val_loss: 0.2391\n",
      "Epoch 25/45\n",
      "\u001b[1m2391/2391\u001b[0m \u001b[32m━━━━━━━━━━━━━━━━━━━━\u001b[0m\u001b[37m\u001b[0m \u001b[1m200s\u001b[0m 84ms/step - accuracy: 0.9420 - loss: 0.1689 - val_accuracy: 0.9312 - val_loss: 0.2308\n",
      "Epoch 26/45\n",
      "\u001b[1m2391/2391\u001b[0m \u001b[32m━━━━━━━━━━━━━━━━━━━━\u001b[0m\u001b[37m\u001b[0m \u001b[1m200s\u001b[0m 84ms/step - accuracy: 0.9420 - loss: 0.1659 - val_accuracy: 0.9372 - val_loss: 0.2156\n",
      "Epoch 27/45\n",
      "\u001b[1m2391/2391\u001b[0m \u001b[32m━━━━━━━━━━━━━━━━━━━━\u001b[0m\u001b[37m\u001b[0m \u001b[1m200s\u001b[0m 84ms/step - accuracy: 0.9472 - loss: 0.1523 - val_accuracy: 0.9304 - val_loss: 0.2278\n",
      "Epoch 28/45\n",
      "\u001b[1m2391/2391\u001b[0m \u001b[32m━━━━━━━━━━━━━━━━━━━━\u001b[0m\u001b[37m\u001b[0m \u001b[1m200s\u001b[0m 84ms/step - accuracy: 0.9469 - loss: 0.1509 - val_accuracy: 0.9372 - val_loss: 0.2136\n",
      "Epoch 29/45\n",
      "\u001b[1m2391/2391\u001b[0m \u001b[32m━━━━━━━━━━━━━━━━━━━━\u001b[0m\u001b[37m\u001b[0m \u001b[1m200s\u001b[0m 84ms/step - accuracy: 0.9495 - loss: 0.1448 - val_accuracy: 0.9325 - val_loss: 0.2357\n",
      "Epoch 30/45\n",
      "\u001b[1m2391/2391\u001b[0m \u001b[32m━━━━━━━━━━━━━━━━━━━━\u001b[0m\u001b[37m\u001b[0m \u001b[1m201s\u001b[0m 84ms/step - accuracy: 0.9510 - loss: 0.1452 - val_accuracy: 0.9395 - val_loss: 0.2139\n",
      "Epoch 31/45\n",
      "\u001b[1m2391/2391\u001b[0m \u001b[32m━━━━━━━━━━━━━━━━━━━━\u001b[0m\u001b[37m\u001b[0m \u001b[1m201s\u001b[0m 84ms/step - accuracy: 0.9529 - loss: 0.1354 - val_accuracy: 0.9373 - val_loss: 0.2198\n",
      "Epoch 32/45\n",
      "\u001b[1m2391/2391\u001b[0m \u001b[32m━━━━━━━━━━━━━━━━━━━━\u001b[0m\u001b[37m\u001b[0m \u001b[1m202s\u001b[0m 85ms/step - accuracy: 0.9562 - loss: 0.1256 - val_accuracy: 0.9408 - val_loss: 0.2116\n",
      "Epoch 33/45\n",
      "\u001b[1m2391/2391\u001b[0m \u001b[32m━━━━━━━━━━━━━━━━━━━━\u001b[0m\u001b[37m\u001b[0m \u001b[1m201s\u001b[0m 84ms/step - accuracy: 0.9557 - loss: 0.1317 - val_accuracy: 0.9404 - val_loss: 0.2145\n",
      "Epoch 34/45\n",
      "\u001b[1m2391/2391\u001b[0m \u001b[32m━━━━━━━━━━━━━━━━━━━━\u001b[0m\u001b[37m\u001b[0m \u001b[1m202s\u001b[0m 85ms/step - accuracy: 0.9591 - loss: 0.1222 - val_accuracy: 0.9416 - val_loss: 0.1993\n",
      "Epoch 35/45\n",
      "\u001b[1m2391/2391\u001b[0m \u001b[32m━━━━━━━━━━━━━━━━━━━━\u001b[0m\u001b[37m\u001b[0m \u001b[1m203s\u001b[0m 85ms/step - accuracy: 0.9578 - loss: 0.1242 - val_accuracy: 0.9382 - val_loss: 0.2130\n",
      "Epoch 36/45\n",
      "\u001b[1m2391/2391\u001b[0m \u001b[32m━━━━━━━━━━━━━━━━━━━━\u001b[0m\u001b[37m\u001b[0m \u001b[1m203s\u001b[0m 85ms/step - accuracy: 0.9597 - loss: 0.1171 - val_accuracy: 0.9452 - val_loss: 0.1927\n",
      "Epoch 37/45\n",
      "\u001b[1m2391/2391\u001b[0m \u001b[32m━━━━━━━━━━━━━━━━━━━━\u001b[0m\u001b[37m\u001b[0m \u001b[1m203s\u001b[0m 85ms/step - accuracy: 0.9622 - loss: 0.1092 - val_accuracy: 0.9432 - val_loss: 0.2131\n",
      "Epoch 38/45\n",
      "\u001b[1m2391/2391\u001b[0m \u001b[32m━━━━━━━━━━━━━━━━━━━━\u001b[0m\u001b[37m\u001b[0m \u001b[1m204s\u001b[0m 85ms/step - accuracy: 0.9632 - loss: 0.1111 - val_accuracy: 0.9391 - val_loss: 0.2222\n",
      "Epoch 39/45\n",
      "\u001b[1m2391/2391\u001b[0m \u001b[32m━━━━━━━━━━━━━━━━━━━━\u001b[0m\u001b[37m\u001b[0m \u001b[1m204s\u001b[0m 85ms/step - accuracy: 0.9631 - loss: 0.1068 - val_accuracy: 0.9488 - val_loss: 0.1948\n",
      "Epoch 40/45\n",
      "\u001b[1m2391/2391\u001b[0m \u001b[32m━━━━━━━━━━━━━━━━━━━━\u001b[0m\u001b[37m\u001b[0m \u001b[1m204s\u001b[0m 85ms/step - accuracy: 0.9653 - loss: 0.1048 - val_accuracy: 0.9385 - val_loss: 0.2270\n",
      "Epoch 41/45\n",
      "\u001b[1m2391/2391\u001b[0m \u001b[32m━━━━━━━━━━━━━━━━━━━━\u001b[0m\u001b[37m\u001b[0m \u001b[1m203s\u001b[0m 85ms/step - accuracy: 0.9642 - loss: 0.1024 - val_accuracy: 0.9446 - val_loss: 0.2204\n",
      "Epoch 42/45\n",
      "\u001b[1m2391/2391\u001b[0m \u001b[32m━━━━━━━━━━━━━━━━━━━━\u001b[0m\u001b[37m\u001b[0m \u001b[1m202s\u001b[0m 84ms/step - accuracy: 0.9646 - loss: 0.1017 - val_accuracy: 0.9486 - val_loss: 0.2088\n",
      "Epoch 43/45\n",
      "\u001b[1m2391/2391\u001b[0m \u001b[32m━━━━━━━━━━━━━━━━━━━━\u001b[0m\u001b[37m\u001b[0m \u001b[1m202s\u001b[0m 85ms/step - accuracy: 0.9666 - loss: 0.0979 - val_accuracy: 0.9525 - val_loss: 0.1882\n",
      "Epoch 44/45\n",
      "\u001b[1m2391/2391\u001b[0m \u001b[32m━━━━━━━━━━━━━━━━━━━━\u001b[0m\u001b[37m\u001b[0m \u001b[1m202s\u001b[0m 85ms/step - accuracy: 0.9684 - loss: 0.0930 - val_accuracy: 0.9467 - val_loss: 0.2090\n",
      "Epoch 45/45\n",
      "\u001b[1m2391/2391\u001b[0m \u001b[32m━━━━━━━━━━━━━━━━━━━━\u001b[0m\u001b[37m\u001b[0m \u001b[1m202s\u001b[0m 84ms/step - accuracy: 0.9678 - loss: 0.0960 - val_accuracy: 0.9524 - val_loss: 0.1902\n",
      "Model training completed\n",
      "Evaluating model on test set...\n",
      "\u001b[1m  1/469\u001b[0m \u001b[37m━━━━━━━━━━━━━━━━━━━━\u001b[0m \u001b[1m1:49\u001b[0m 235ms/step"
     ]
    },
    {
     "name": "stderr",
     "output_type": "stream",
     "text": [
      "2025-04-21 19:43:57.230232: E tensorflow/core/grappler/optimizers/meta_optimizer.cc:961] PluggableGraphOptimizer failed: INVALID_ARGUMENT: Failed to deserialize the `graph_buf`.\n"
     ]
    },
    {
     "name": "stdout",
     "output_type": "stream",
     "text": [
      "\u001b[1m469/469\u001b[0m \u001b[32m━━━━━━━━━━━━━━━━━━━━\u001b[0m\u001b[37m\u001b[0m \u001b[1m5s\u001b[0m 11ms/step\n",
      "Test Accuracy: 95.10%\n"
     ]
    }
   ],
   "source": [
    "# Data augmentation\n",
    "data_augmentation = tf.keras.Sequential([\n",
    "    tf.keras.layers.RandomFlip(\"horizontal\"),\n",
    "    tf.keras.layers.RandomRotation(0.1),\n",
    "    tf.keras.layers.RandomZoom(0.1),\n",
    "])\n",
    "\n",
    "model = tf.keras.Sequential([\n",
    "    tf.keras.layers.Input(shape=(IMG_SIZE, IMG_SIZE, channels)),\n",
    "    data_augmentation,  # Data augmentation\n",
    "    \n",
    "    # Block 1 (32 filters)\n",
    "    tf.keras.layers.Conv2D(32, (3, 3), activation='relu', padding='same'),\n",
    "    tf.keras.layers.BatchNormalization(),\n",
    "    tf.keras.layers.MaxPooling2D((2, 2)),\n",
    "    \n",
    "    # Block 2 (64 filters)\n",
    "    tf.keras.layers.Conv2D(64, (3, 3), activation='relu', padding='same'),\n",
    "    tf.keras.layers.BatchNormalization(),\n",
    "    tf.keras.layers.MaxPooling2D((2, 2)),\n",
    "    \n",
    "    # Block 3 (128 filters)\n",
    "    tf.keras.layers.Conv2D(128, (3, 3), activation='relu', padding='same'),\n",
    "    tf.keras.layers.BatchNormalization(),\n",
    "    tf.keras.layers.MaxPooling2D((2, 2)),\n",
    "    \n",
    "    # Block 4 (256 filters)\n",
    "    tf.keras.layers.Conv2D(256, (3, 3), activation='relu', padding='same'),\n",
    "    tf.keras.layers.BatchNormalization(),\n",
    "    tf.keras.layers.MaxPooling2D((2, 2)),\n",
    "    \n",
    "    # Block 5 (512 filters)\n",
    "    tf.keras.layers.Conv2D(512, (3, 3), activation='relu', padding='same'),\n",
    "    tf.keras.layers.BatchNormalization(),\n",
    "    tf.keras.layers.MaxPooling2D((2, 2)),\n",
    "    \n",
    "    # Block 6 (1024 filters)\n",
    "    tf.keras.layers.Conv2D(1024, (3, 3), activation='relu', padding='valid'),  # No padding here\n",
    "    tf.keras.layers.BatchNormalization(),\n",
    "    \n",
    "    # Global Average Pooling instead of Flatten (better for small feature maps)\n",
    "    tf.keras.layers.GlobalAveragePooling2D(),\n",
    "    \n",
    "    # Dense layers\n",
    "    tf.keras.layers.Dense(2048, activation='relu'),\n",
    "    tf.keras.layers.Dropout(0.5),\n",
    "    tf.keras.layers.Dense(10, activation='softmax')\n",
    "])\n",
    "\n",
    "# Compile with a lower learning rate for better convergence\n",
    "optimizer = tf.keras.optimizers.Adam(learning_rate=0.0001)\n",
    "model.compile(optimizer=optimizer,\n",
    "              loss='sparse_categorical_crossentropy',\n",
    "              metrics=['accuracy'])\n",
    "\n",
    "# Train the model with more epochs\n",
    "print(\"Training CNN model...\")\n",
    "early_stopping = EarlyStopping(monitor='val_accuracy', patience=10, restore_best_weights=True)\n",
    "history = model.fit(X_train, y_train, epochs=45, batch_size=32, validation_split=0.1, callbacks=[early_stopping])\n",
    "\n",
    "print(\"Model training completed\")\n",
    "\n",
    "# Evaluate on test set\n",
    "print(\"Evaluating model on test set...\")\n",
    "test_predictions = model.predict(X_test)\n",
    "test_predictions = np.argmax(test_predictions, axis=1)\n",
    "test_accuracy = accuracy_score(y_test, test_predictions)\n",
    "print(f\"Test Accuracy: {test_accuracy * 100:.2f}%\")"
   ]
  },
  {
   "cell_type": "code",
   "execution_count": 5,
   "id": "7ae3d46f",
   "metadata": {},
   "outputs": [],
   "source": [
    "model.save('cnn_model.keras')"
   ]
  }
 ],
 "metadata": {
  "kernelspec": {
   "display_name": "base",
   "language": "python",
   "name": "python3"
  },
  "language_info": {
   "codemirror_mode": {
    "name": "ipython",
    "version": 3
   },
   "file_extension": ".py",
   "mimetype": "text/x-python",
   "name": "python",
   "nbconvert_exporter": "python",
   "pygments_lexer": "ipython3",
   "version": "3.12.7"
  }
 },
 "nbformat": 4,
 "nbformat_minor": 5
}
