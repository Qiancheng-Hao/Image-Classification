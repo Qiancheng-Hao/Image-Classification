{
 "cells": [
  {
   "cell_type": "markdown",
   "metadata": {},
   "source": [
    "------------------------------------------------****Image Classification****-------------------------------------------------------------------"
   ]
  },
  {
   "cell_type": "markdown",
   "metadata": {},
   "source": [
    "First, we import the required libraries"
   ]
  },
  {
   "cell_type": "code",
   "execution_count": 1,
   "metadata": {},
   "outputs": [
    {
     "name": "stdout",
     "output_type": "stream",
     "text": [
      "Load environment successfully\n"
     ]
    }
   ],
   "source": [
    "import os\n",
    "from skimage.io import imread, imsave\n",
    "from sklearn.model_selection import train_test_split\n",
    "import numpy as np\n",
    "import pandas as pd\n",
    "from cuml.svm import SVC\n",
    "import cv2\n",
    "import gc\n",
    "from sklearn.preprocessing import LabelEncoder, StandardScaler\n",
    "print(\"Load environment successfully\")"
   ]
  },
  {
   "cell_type": "markdown",
   "metadata": {},
   "source": [
    "Then, we doubled the sample size by inverting it horizontally, and save the datas and labels to new file. "
   ]
  },
  {
   "cell_type": "code",
   "execution_count": 3,
   "metadata": {},
   "outputs": [
    {
     "name": "stderr",
     "output_type": "stream",
     "text": [
      "/tmp/ipykernel_58449/1264997416.py:14: UserWarning: train_ims_rever/reverse_1f43d7e.jpg is a low contrast image\n",
      "  imsave(reversed_img_path, image_reversed)\n"
     ]
    },
    {
     "name": "stdout",
     "output_type": "stream",
     "text": [
      "All images have been horizontally flipped and saved to 'train_ims_rever' folder with 'reverse_' prefix.\n",
      "Labels for flipped images have been added to 'train_combined.csv'.\n"
     ]
    }
   ],
   "source": [
    "#create a new folder to store the flipped images\n",
    "os.makedirs('train_ims_rever', exist_ok=True)\n",
    "\n",
    "# get all image names\n",
    "image_names = os.listdir('train_ims')\n",
    "# \n",
    "# flip images horizontally, add prefix and save them to the new folder by for loop\n",
    "for img_name in image_names:\n",
    "    img_path = os.path.join('train_ims', img_name)\n",
    "    image = imread(img_path)\n",
    "    image_reversed = np.fliplr(image)  # flip horizontally\n",
    "    reversed_img_name = 'reverse_' + img_name  # add prefix to distinguish reversed images\n",
    "    reversed_img_path = os.path.join('train_ims_rever', reversed_img_name)\n",
    "    imsave(reversed_img_path, image_reversed)\n",
    "\n",
    "print(\"All images have been horizontally flipped and saved to 'train_ims_rever' folder with 'reverse_' prefix.\")\n",
    "\n",
    "# read the original label file\n",
    "df = pd.read_csv('train.csv')\n",
    "\n",
    "# create a new label file for the flipped images\n",
    "df_reversed = df.copy()\n",
    "df_reversed['im_name'] = 'reverse_' + df_reversed['im_name']  # add prefix to image names\n",
    "\n",
    "# combine the original and flipped labels\n",
    "df_combined = pd.concat([df, df_reversed], ignore_index=True)\n",
    "\n",
    "# save the combined label file\n",
    "df_combined.to_csv('train_combined.csv', index=False)\n",
    "\n",
    "print(\"Labels for flipped images have been added to 'train_combined.csv'.\")"
   ]
  },
  {
   "cell_type": "markdown",
   "metadata": {},
   "source": [
    "Initialize labels and image names and define optimal HOG parameters"
   ]
  },
  {
   "cell_type": "code",
   "execution_count": 2,
   "metadata": {},
   "outputs": [
    {
     "name": "stdout",
     "output_type": "stream",
     "text": [
      "Successfully read the file\n"
     ]
    }
   ],
   "source": [
    "# read the combined label file\n",
    "df = pd.read_csv('train_combined.csv')\n",
    "labels = df['label'].values\n",
    "image_names = df['im_name'].values\n",
    "\n",
    "# encode the labels\n",
    "le = LabelEncoder()\n",
    "labels = le.fit_transform(labels)\n",
    "\n",
    "best_params = {\n",
    "    'resize_size': 128,\n",
    "    'pixels_per_cell': (16, 16),\n",
    "    'cells_per_block': (4, 4),\n",
    "    'orientations': 10,\n",
    "    'C': 10,\n",
    "    'kernel': 'rbf'\n",
    "}\n",
    "\n",
    "hog = cv2.HOGDescriptor(_winSize=(best_params['resize_size'], best_params['resize_size']),\n",
    "                        _blockSize=(best_params['cells_per_block'][1] * best_params['pixels_per_cell'][1],\n",
    "                                    best_params['cells_per_block'][0] * best_params['pixels_per_cell'][0]),\n",
    "                        _blockStride=(best_params['pixels_per_cell'][1], best_params['pixels_per_cell'][0]),\n",
    "                        _cellSize=(best_params['pixels_per_cell'][1], best_params['pixels_per_cell'][0]),\n",
    "                        _nbins=best_params['orientations'])\n",
    "print(\"Successfully read the file\")\n"
   ]
  },
  {
   "cell_type": "markdown",
   "metadata": {},
   "source": [
    "Read images in different paths and get the features of the file according to the HOG function. \n",
    "Standardize the data by scaling the features of the data to a standard normal distribution with a mean of 0 and a standard deviation of 1 to improve the performance and training speed of the model. \n",
    "Training the SVM model"
   ]
  },
  {
   "cell_type": "code",
   "execution_count": 3,
   "metadata": {},
   "outputs": [
    {
     "name": "stdout",
     "output_type": "stream",
     "text": [
      "Start extracting features...\n",
      "features size:  (100000, 4000)\n",
      "Start preprocessing data...\n",
      "[W] [16:27:43.832240] Random state is currently ignored by probabilistic SVC\n",
      "Already trained SVM model\n"
     ]
    },
    {
     "data": {
      "text/plain": [
       "770"
      ]
     },
     "execution_count": 3,
     "metadata": {},
     "output_type": "execute_result"
    }
   ],
   "source": [
    "features = []\n",
    "print(\"Start extracting features...\")\n",
    "for img_name in image_names:\n",
    "    if 'reverse_' in img_name:\n",
    "        img_path = os.path.join('train_ims_rever', img_name)\n",
    "    else:\n",
    "        img_path = os.path.join('train_ims', img_name)\n",
    "    image = cv2.imread(img_path, cv2.IMREAD_GRAYSCALE)\n",
    "    image = cv2.resize(image, (best_params['resize_size'], best_params['resize_size']))\n",
    "    hog_features = hog.compute(image).flatten()\n",
    "    features.append(hog_features)\n",
    "    \n",
    "features = np.array(features)\n",
    "print(\"features size: \", features.shape)\n",
    "del image, hog_features\n",
    "gc.collect()\n",
    "\n",
    "X_train, _, y_train, _ = train_test_split(features, labels, test_size=0.15, random_state=42)\n",
    "del features\n",
    "gc.collect()\n",
    "\n",
    "print('Start preprocessing data...')\n",
    "scaler = StandardScaler()\n",
    "X_train_scaled = scaler.fit_transform(X_train)\n",
    "del X_train\n",
    "gc.collect()\n",
    "\n",
    "svm = SVC(C=best_params['C'], kernel=best_params['kernel'], probability=True, random_state=42)\n",
    "svm.fit(X_train_scaled, y_train)\n",
    "print(\"Already trained SVM model\")\n",
    "del X_train_scaled, y_train\n",
    "gc.collect()"
   ]
  },
  {
   "cell_type": "markdown",
   "metadata": {},
   "source": [
    "Read the images and labels of the test file, and use the HOG function to obtain the features of the images, standardize the features, and use them for testing.\n",
    "Save the result to test.csv"
   ]
  },
  {
   "cell_type": "code",
   "execution_count": 4,
   "metadata": {},
   "outputs": [
    {
     "name": "stdout",
     "output_type": "stream",
     "text": [
      "Already get test features\n",
      "Before prediction\n",
      "After prediction\n",
      "Predictions saved to test.csv\n"
     ]
    }
   ],
   "source": [
    "# read the test label file\n",
    "test_names_df = pd.read_csv('test.csv')\n",
    "test_names = test_names_df['im_name'].values\n",
    "\n",
    "test_features = []\n",
    "for test_name in test_names:\n",
    "    test_path = os.path.join('test_ims', test_name)\n",
    "    img = cv2.imread(test_path, cv2.IMREAD_GRAYSCALE)\n",
    "    img = cv2.resize(img, (128, 128))\n",
    "    hog_features = hog.compute(img)\n",
    "    test_features.append(hog_features)\n",
    "\n",
    "test_features = np.array(test_features)\n",
    "print(\"Already get test features\")\n",
    "\n",
    "test_features_scaled = scaler.transform(test_features)\n",
    "\n",
    "print(\"Before prediction\")\n",
    "test_predictions = svm.predict(test_features_scaled)\n",
    "print(\"After prediction\")\n",
    "\n",
    "# save the predictions to a csv file\n",
    "test_names_df['label'] = le.inverse_transform(test_predictions)\n",
    "test_names_df.to_csv('test.csv', index=False)\n",
    "\n",
    "print(\"Predictions saved to test.csv\")"
   ]
  }
 ],
 "metadata": {
  "kernelspec": {
   "display_name": "rapids-24.10",
   "language": "python",
   "name": "rapids-24.10"
  },
  "language_info": {
   "codemirror_mode": {
    "name": "ipython",
    "version": 3
   },
   "file_extension": ".py",
   "mimetype": "text/x-python",
   "name": "python",
   "nbconvert_exporter": "python",
   "pygments_lexer": "ipython3",
   "version": "3.12.7"
  }
 },
 "nbformat": 4,
 "nbformat_minor": 4
}
