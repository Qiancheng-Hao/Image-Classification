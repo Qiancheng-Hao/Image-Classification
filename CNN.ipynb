{
 "cells": [
  {
   "cell_type": "code",
   "execution_count": null,
   "id": "639a3720",
   "metadata": {},
   "outputs": [],
   "source": [
    "\"\"\"\n",
    "install：\n",
    "curl -L -O https://github.com/conda-forge/miniforge/releases/latest/download/Miniforge3-MacOSX-arm64.sh\n",
    "bash Miniforge3-MacOSX-arm64.sh\n",
    "\n",
    "conda create -n cnn-mac python=3.12\n",
    "conda activate cnn-mac\n",
    "pip install tensorflow-macos tensorflow-metal numpy pandas opencv-python scikit-image scikit-learn\n",
    "import tensorflow as tf\n",
    "print(\"Num GPUs Available: \", len(tf.config.list_physical_devices('GPU')))\n",
    "\"\"\""
   ]
  },
  {
   "cell_type": "code",
   "execution_count": 1,
   "id": "2fc600e46a3320dd",
   "metadata": {
    "jupyter": {
     "is_executing": true
    }
   },
   "outputs": [
    {
     "name": "stdout",
     "output_type": "stream",
     "text": [
      "Load environment successfully\n",
      "All images have been horizontally flipped and saved to 'train_ims_rever' folder with 'reverse_' prefix.\n",
      "Labels for flipped images have been added to 'train_combined.csv'.\n",
      "Start loading images...\n",
      "Images loaded, shape: (100000, 128, 128, 3)\n",
      "Training set shape: (83000, 128, 128, 3)\n",
      "Testing set shape: (17000, 128, 128, 3)\n"
     ]
    },
    {
     "data": {
      "text/plain": [
       "30"
      ]
     },
     "execution_count": 1,
     "metadata": {},
     "output_type": "execute_result"
    }
   ],
   "source": [
    "# Import required libraries\n",
    "import os\n",
    "from skimage.io import imread, imsave\n",
    "from sklearn.model_selection import train_test_split\n",
    "import numpy as np\n",
    "import pandas as pd\n",
    "import tensorflow as tf\n",
    "import cv2\n",
    "import gc\n",
    "from sklearn.preprocessing import LabelEncoder\n",
    "from sklearn.metrics import accuracy_score\n",
    "from tensorflow.keras.callbacks import EarlyStopping\n",
    "\n",
    "print(\"Load environment successfully\")\n",
    "\n",
    "# Enable GPU memory growth for TensorFlow\n",
    "physical_devices = tf.config.list_physical_devices('GPU')\n",
    "if physical_devices:\n",
    "    tf.config.experimental.set_memory_growth(physical_devices[0], True)\n",
    "\n",
    "# Create a new folder to store the flipped images\n",
    "os.makedirs('train_ims_rever', exist_ok=True)\n",
    "\n",
    "# Get all image names\n",
    "image_names = os.listdir('train_ims')\n",
    "\n",
    "# Flip images horizontally, add prefix and save them to the new folder\n",
    "for img_name in image_names:\n",
    "    img_path = os.path.join('train_ims', img_name)\n",
    "    image = imread(img_path)\n",
    "    image_reversed = np.fliplr(image)\n",
    "    reversed_img_name = 'reverse_' + img_name\n",
    "    reversed_img_path = os.path.join('train_ims_rever', reversed_img_name)\n",
    "    imsave(reversed_img_path, image_reversed)\n",
    "\n",
    "print(\"All images have been horizontally flipped and saved to 'train_ims_rever' folder with 'reverse_' prefix.\")\n",
    "\n",
    "# Read the original label file\n",
    "df = pd.read_csv('train.csv')\n",
    "\n",
    "# Create a new label file for the flipped images\n",
    "df_reversed = df.copy()\n",
    "df_reversed['im_name'] = 'reverse_' + df_reversed['im_name']\n",
    "\n",
    "# Combine the original and flipped labels\n",
    "df_combined = pd.concat([df, df_reversed], ignore_index=True)\n",
    "df_combined.to_csv('train_combined.csv', index=False)\n",
    "\n",
    "print(\"Labels for flipped images have been added to 'train_combined.csv'.\")\n",
    "\n",
    "# Read the combined label file\n",
    "df = pd.read_csv('train_combined.csv')\n",
    "labels = df['label'].values\n",
    "image_names = df['im_name'].values\n",
    "\n",
    "# Encode the labels (10 categories)\n",
    "le = LabelEncoder()\n",
    "labels = le.fit_transform(labels)\n",
    "\n",
    "# Define image size and load images\n",
    "IMG_SIZE = 128\n",
    "channels = 3  # Grayscale; change to 3 if RGB\n",
    "images = []\n",
    "print(\"Start loading images...\")\n",
    "for img_name in image_names:\n",
    "    if 'reverse_' in img_name:\n",
    "        img_path = os.path.join('train_ims_rever', img_name)\n",
    "    else:\n",
    "        img_path = os.path.join('train_ims', img_name)\n",
    "    image = cv2.imread(img_path)  # Grayscale\n",
    "    image = cv2.cvtColor(image, cv2.COLOR_BGR2RGB)\n",
    "    image = cv2.resize(image, (IMG_SIZE, IMG_SIZE))\n",
    "    images.append(image)\n",
    "\n",
    "images = np.array(images)\n",
    "images = images.reshape(-1, IMG_SIZE, IMG_SIZE, channels) / 255.0  # Normalize\n",
    "print(\"Images loaded, shape:\", images.shape)\n",
    "\n",
    "# Split data into 80% training and 20% testing\n",
    "X_train, X_test, y_train, y_test = train_test_split(images, labels, test_size=0.17, random_state=42)\n",
    "print(\"Training set shape:\", X_train.shape)\n",
    "print(\"Testing set shape:\", X_test.shape)\n",
    "del images, df, df_reversed, df_combined, image_names\n",
    "gc.collect()\n",
    "\n"
   ]
  },
  {
   "cell_type": "code",
   "execution_count": 2,
   "id": "437dab617220514d",
   "metadata": {},
   "outputs": [
    {
     "name": "stderr",
     "output_type": "stream",
     "text": [
      "2025-04-10 12:54:51.485249: I metal_plugin/src/device/metal_device.cc:1154] Metal device set to: Apple M4 Pro\n",
      "2025-04-10 12:54:51.485297: I metal_plugin/src/device/metal_device.cc:296] systemMemory: 48.00 GB\n",
      "2025-04-10 12:54:51.485301: I metal_plugin/src/device/metal_device.cc:313] maxCacheSize: 18.00 GB\n",
      "2025-04-10 12:54:51.485320: I tensorflow/core/common_runtime/pluggable_device/pluggable_device_factory.cc:305] Could not identify NUMA node of platform GPU ID 0, defaulting to 0. Your kernel may not have been built with NUMA support.\n",
      "2025-04-10 12:54:51.485329: I tensorflow/core/common_runtime/pluggable_device/pluggable_device_factory.cc:271] Created TensorFlow device (/job:localhost/replica:0/task:0/device:GPU:0 with 0 MB memory) -> physical PluggableDevice (device: 0, name: METAL, pci bus id: <undefined>)\n"
     ]
    },
    {
     "name": "stdout",
     "output_type": "stream",
     "text": [
      "Training CNN model...\n",
      "Epoch 1/100\n"
     ]
    },
    {
     "name": "stderr",
     "output_type": "stream",
     "text": [
      "2025-04-10 12:59:34.362261: I tensorflow/core/grappler/optimizers/custom_graph_optimizer_registry.cc:117] Plugin optimizer for device_type GPU is enabled.\n",
      "2025-04-10 12:59:34.370572: E tensorflow/core/grappler/optimizers/meta_optimizer.cc:961] PluggableGraphOptimizer failed: INVALID_ARGUMENT: Failed to deserialize the `graph_buf`.\n"
     ]
    },
    {
     "name": "stdout",
     "output_type": "stream",
     "text": [
      "\u001b[1m2335/2335\u001b[0m \u001b[32m━━━━━━━━━━━━━━━━━━━━\u001b[0m\u001b[37m\u001b[0m \u001b[1m0s\u001b[0m 55ms/step - accuracy: 0.4134 - loss: 1.7846"
     ]
    },
    {
     "name": "stderr",
     "output_type": "stream",
     "text": [
      "2025-04-10 13:01:50.315432: E tensorflow/core/grappler/optimizers/meta_optimizer.cc:961] PluggableGraphOptimizer failed: INVALID_ARGUMENT: Failed to deserialize the `graph_buf`.\n"
     ]
    },
    {
     "name": "stdout",
     "output_type": "stream",
     "text": [
      "\u001b[1m2335/2335\u001b[0m \u001b[32m━━━━━━━━━━━━━━━━━━━━\u001b[0m\u001b[37m\u001b[0m \u001b[1m140s\u001b[0m 59ms/step - accuracy: 0.4134 - loss: 1.7845 - val_accuracy: 0.6061 - val_loss: 1.1140\n",
      "Epoch 2/100\n",
      "\u001b[1m2335/2335\u001b[0m \u001b[32m━━━━━━━━━━━━━━━━━━━━\u001b[0m\u001b[37m\u001b[0m \u001b[1m139s\u001b[0m 59ms/step - accuracy: 0.5827 - loss: 1.1860 - val_accuracy: 0.6813 - val_loss: 0.8990\n",
      "Epoch 3/100\n",
      "\u001b[1m2335/2335\u001b[0m \u001b[32m━━━━━━━━━━━━━━━━━━━━\u001b[0m\u001b[37m\u001b[0m \u001b[1m138s\u001b[0m 59ms/step - accuracy: 0.6443 - loss: 1.0072 - val_accuracy: 0.7134 - val_loss: 0.8154\n",
      "Epoch 4/100\n",
      "\u001b[1m2335/2335\u001b[0m \u001b[32m━━━━━━━━━━━━━━━━━━━━\u001b[0m\u001b[37m\u001b[0m \u001b[1m137s\u001b[0m 59ms/step - accuracy: 0.6926 - loss: 0.8826 - val_accuracy: 0.7443 - val_loss: 0.7189\n",
      "Epoch 5/100\n",
      "\u001b[1m2335/2335\u001b[0m \u001b[32m━━━━━━━━━━━━━━━━━━━━\u001b[0m\u001b[37m\u001b[0m \u001b[1m142s\u001b[0m 61ms/step - accuracy: 0.7181 - loss: 0.8107 - val_accuracy: 0.7754 - val_loss: 0.6414\n",
      "Epoch 6/100\n",
      "\u001b[1m2335/2335\u001b[0m \u001b[32m━━━━━━━━━━━━━━━━━━━━\u001b[0m\u001b[37m\u001b[0m \u001b[1m146s\u001b[0m 63ms/step - accuracy: 0.7463 - loss: 0.7351 - val_accuracy: 0.7857 - val_loss: 0.6089\n",
      "Epoch 7/100\n",
      "\u001b[1m2335/2335\u001b[0m \u001b[32m━━━━━━━━━━━━━━━━━━━━\u001b[0m\u001b[37m\u001b[0m \u001b[1m156s\u001b[0m 67ms/step - accuracy: 0.7647 - loss: 0.6774 - val_accuracy: 0.8054 - val_loss: 0.5572\n",
      "Epoch 8/100\n",
      "\u001b[1m2335/2335\u001b[0m \u001b[32m━━━━━━━━━━━━━━━━━━━━\u001b[0m\u001b[37m\u001b[0m \u001b[1m153s\u001b[0m 66ms/step - accuracy: 0.7790 - loss: 0.6332 - val_accuracy: 0.8137 - val_loss: 0.5304\n",
      "Epoch 9/100\n",
      "\u001b[1m2335/2335\u001b[0m \u001b[32m━━━━━━━━━━━━━━━━━━━━\u001b[0m\u001b[37m\u001b[0m \u001b[1m130s\u001b[0m 56ms/step - accuracy: 0.7972 - loss: 0.5844 - val_accuracy: 0.8177 - val_loss: 0.5268\n",
      "Epoch 10/100\n",
      "\u001b[1m2335/2335\u001b[0m \u001b[32m━━━━━━━━━━━━━━━━━━━━\u001b[0m\u001b[37m\u001b[0m \u001b[1m125s\u001b[0m 53ms/step - accuracy: 0.8107 - loss: 0.5398 - val_accuracy: 0.8296 - val_loss: 0.4937\n",
      "Epoch 11/100\n",
      "\u001b[1m2335/2335\u001b[0m \u001b[32m━━━━━━━━━━━━━━━━━━━━\u001b[0m\u001b[37m\u001b[0m \u001b[1m125s\u001b[0m 53ms/step - accuracy: 0.8214 - loss: 0.5117 - val_accuracy: 0.8458 - val_loss: 0.4437\n",
      "Epoch 12/100\n",
      "\u001b[1m2335/2335\u001b[0m \u001b[32m━━━━━━━━━━━━━━━━━━━━\u001b[0m\u001b[37m\u001b[0m \u001b[1m125s\u001b[0m 54ms/step - accuracy: 0.8277 - loss: 0.4937 - val_accuracy: 0.8542 - val_loss: 0.4222\n",
      "Epoch 13/100\n",
      "\u001b[1m2335/2335\u001b[0m \u001b[32m━━━━━━━━━━━━━━━━━━━━\u001b[0m\u001b[37m\u001b[0m \u001b[1m125s\u001b[0m 54ms/step - accuracy: 0.8386 - loss: 0.4648 - val_accuracy: 0.8559 - val_loss: 0.4171\n",
      "Epoch 14/100\n",
      "\u001b[1m2335/2335\u001b[0m \u001b[32m━━━━━━━━━━━━━━━━━━━━\u001b[0m\u001b[37m\u001b[0m \u001b[1m475s\u001b[0m 204ms/step - accuracy: 0.8461 - loss: 0.4409 - val_accuracy: 0.8549 - val_loss: 0.4318\n",
      "Epoch 15/100\n",
      "\u001b[1m2335/2335\u001b[0m \u001b[32m━━━━━━━━━━━━━━━━━━━━\u001b[0m\u001b[37m\u001b[0m \u001b[1m362s\u001b[0m 155ms/step - accuracy: 0.8562 - loss: 0.4140 - val_accuracy: 0.8606 - val_loss: 0.4035\n",
      "Epoch 16/100\n",
      "\u001b[1m2335/2335\u001b[0m \u001b[32m━━━━━━━━━━━━━━━━━━━━\u001b[0m\u001b[37m\u001b[0m \u001b[1m606s\u001b[0m 260ms/step - accuracy: 0.8602 - loss: 0.4009 - val_accuracy: 0.8678 - val_loss: 0.3845\n",
      "Epoch 17/100\n",
      "\u001b[1m2335/2335\u001b[0m \u001b[32m━━━━━━━━━━━━━━━━━━━━\u001b[0m\u001b[37m\u001b[0m \u001b[1m641s\u001b[0m 274ms/step - accuracy: 0.8698 - loss: 0.3738 - val_accuracy: 0.8731 - val_loss: 0.3665\n",
      "Epoch 18/100\n",
      "\u001b[1m2335/2335\u001b[0m \u001b[32m━━━━━━━━━━━━━━━━━━━━\u001b[0m\u001b[37m\u001b[0m \u001b[1m872s\u001b[0m 374ms/step - accuracy: 0.8710 - loss: 0.3681 - val_accuracy: 0.8683 - val_loss: 0.3941\n",
      "Epoch 19/100\n",
      "\u001b[1m2335/2335\u001b[0m \u001b[32m━━━━━━━━━━━━━━━━━━━━\u001b[0m\u001b[37m\u001b[0m \u001b[1m242s\u001b[0m 104ms/step - accuracy: 0.8800 - loss: 0.3445 - val_accuracy: 0.8859 - val_loss: 0.3439\n",
      "Epoch 20/100\n",
      "\u001b[1m2335/2335\u001b[0m \u001b[32m━━━━━━━━━━━━━━━━━━━━\u001b[0m\u001b[37m\u001b[0m \u001b[1m1077s\u001b[0m 461ms/step - accuracy: 0.8845 - loss: 0.3324 - val_accuracy: 0.8895 - val_loss: 0.3284\n",
      "Epoch 21/100\n",
      "\u001b[1m2335/2335\u001b[0m \u001b[32m━━━━━━━━━━━━━━━━━━━━\u001b[0m\u001b[37m\u001b[0m \u001b[1m980s\u001b[0m 420ms/step - accuracy: 0.8905 - loss: 0.3185 - val_accuracy: 0.8835 - val_loss: 0.3423\n",
      "Epoch 22/100\n",
      "\u001b[1m2335/2335\u001b[0m \u001b[32m━━━━━━━━━━━━━━━━━━━━\u001b[0m\u001b[37m\u001b[0m \u001b[1m505s\u001b[0m 216ms/step - accuracy: 0.8919 - loss: 0.3068 - val_accuracy: 0.8933 - val_loss: 0.3199\n",
      "Epoch 23/100\n",
      "\u001b[1m2335/2335\u001b[0m \u001b[32m━━━━━━━━━━━━━━━━━━━━\u001b[0m\u001b[37m\u001b[0m \u001b[1m574s\u001b[0m 246ms/step - accuracy: 0.8981 - loss: 0.2978 - val_accuracy: 0.8939 - val_loss: 0.3262\n",
      "Epoch 24/100\n",
      "\u001b[1m2335/2335\u001b[0m \u001b[32m━━━━━━━━━━━━━━━━━━━━\u001b[0m\u001b[37m\u001b[0m \u001b[1m651s\u001b[0m 279ms/step - accuracy: 0.8994 - loss: 0.2838 - val_accuracy: 0.9031 - val_loss: 0.2961\n",
      "Epoch 25/100\n",
      "\u001b[1m2335/2335\u001b[0m \u001b[32m━━━━━━━━━━━━━━━━━━━━\u001b[0m\u001b[37m\u001b[0m \u001b[1m127s\u001b[0m 54ms/step - accuracy: 0.9035 - loss: 0.2789 - val_accuracy: 0.9089 - val_loss: 0.2818\n",
      "Epoch 26/100\n",
      "\u001b[1m2335/2335\u001b[0m \u001b[32m━━━━━━━━━━━━━━━━━━━━\u001b[0m\u001b[37m\u001b[0m \u001b[1m130s\u001b[0m 56ms/step - accuracy: 0.9083 - loss: 0.2687 - val_accuracy: 0.8994 - val_loss: 0.3149\n",
      "Epoch 27/100\n",
      "\u001b[1m2335/2335\u001b[0m \u001b[32m━━━━━━━━━━━━━━━━━━━━\u001b[0m\u001b[37m\u001b[0m \u001b[1m135s\u001b[0m 58ms/step - accuracy: 0.9108 - loss: 0.2602 - val_accuracy: 0.8983 - val_loss: 0.3192\n",
      "Epoch 28/100\n",
      "\u001b[1m2335/2335\u001b[0m \u001b[32m━━━━━━━━━━━━━━━━━━━━\u001b[0m\u001b[37m\u001b[0m \u001b[1m136s\u001b[0m 58ms/step - accuracy: 0.9136 - loss: 0.2474 - val_accuracy: 0.9167 - val_loss: 0.2742\n",
      "Epoch 29/100\n",
      "\u001b[1m2335/2335\u001b[0m \u001b[32m━━━━━━━━━━━━━━━━━━━━\u001b[0m\u001b[37m\u001b[0m \u001b[1m135s\u001b[0m 58ms/step - accuracy: 0.9169 - loss: 0.2386 - val_accuracy: 0.9008 - val_loss: 0.3082\n",
      "Epoch 30/100\n",
      "\u001b[1m2335/2335\u001b[0m \u001b[32m━━━━━━━━━━━━━━━━━━━━\u001b[0m\u001b[37m\u001b[0m \u001b[1m135s\u001b[0m 58ms/step - accuracy: 0.9194 - loss: 0.2313 - val_accuracy: 0.9131 - val_loss: 0.2671\n",
      "Epoch 31/100\n",
      "\u001b[1m2335/2335\u001b[0m \u001b[32m━━━━━━━━━━━━━━━━━━━━\u001b[0m\u001b[37m\u001b[0m \u001b[1m135s\u001b[0m 58ms/step - accuracy: 0.9217 - loss: 0.2282 - val_accuracy: 0.9058 - val_loss: 0.2992\n",
      "Epoch 32/100\n",
      "\u001b[1m2335/2335\u001b[0m \u001b[32m━━━━━━━━━━━━━━━━━━━━\u001b[0m\u001b[37m\u001b[0m \u001b[1m136s\u001b[0m 58ms/step - accuracy: 0.9233 - loss: 0.2207 - val_accuracy: 0.9124 - val_loss: 0.2784\n",
      "Epoch 33/100\n",
      "\u001b[1m2335/2335\u001b[0m \u001b[32m━━━━━━━━━━━━━━━━━━━━\u001b[0m\u001b[37m\u001b[0m \u001b[1m135s\u001b[0m 58ms/step - accuracy: 0.9273 - loss: 0.2145 - val_accuracy: 0.9212 - val_loss: 0.2506\n",
      "Epoch 34/100\n",
      "\u001b[1m2335/2335\u001b[0m \u001b[32m━━━━━━━━━━━━━━━━━━━━\u001b[0m\u001b[37m\u001b[0m \u001b[1m135s\u001b[0m 58ms/step - accuracy: 0.9275 - loss: 0.2102 - val_accuracy: 0.9186 - val_loss: 0.2544\n",
      "Epoch 35/100\n",
      "\u001b[1m2335/2335\u001b[0m \u001b[32m━━━━━━━━━━━━━━━━━━━━\u001b[0m\u001b[37m\u001b[0m \u001b[1m139s\u001b[0m 60ms/step - accuracy: 0.9303 - loss: 0.2022 - val_accuracy: 0.9254 - val_loss: 0.2458\n",
      "Epoch 36/100\n",
      "\u001b[1m2335/2335\u001b[0m \u001b[32m━━━━━━━━━━━━━━━━━━━━\u001b[0m\u001b[37m\u001b[0m \u001b[1m136s\u001b[0m 58ms/step - accuracy: 0.9311 - loss: 0.2008 - val_accuracy: 0.9211 - val_loss: 0.2525\n",
      "Epoch 37/100\n",
      "\u001b[1m2335/2335\u001b[0m \u001b[32m━━━━━━━━━━━━━━━━━━━━\u001b[0m\u001b[37m\u001b[0m \u001b[1m136s\u001b[0m 58ms/step - accuracy: 0.9321 - loss: 0.1948 - val_accuracy: 0.9186 - val_loss: 0.2514\n",
      "Epoch 38/100\n",
      "\u001b[1m2335/2335\u001b[0m \u001b[32m━━━━━━━━━━━━━━━━━━━━\u001b[0m\u001b[37m\u001b[0m \u001b[1m136s\u001b[0m 58ms/step - accuracy: 0.9354 - loss: 0.1868 - val_accuracy: 0.9155 - val_loss: 0.2775\n",
      "Epoch 39/100\n",
      "\u001b[1m2335/2335\u001b[0m \u001b[32m━━━━━━━━━━━━━━━━━━━━\u001b[0m\u001b[37m\u001b[0m \u001b[1m134s\u001b[0m 57ms/step - accuracy: 0.9370 - loss: 0.1803 - val_accuracy: 0.9201 - val_loss: 0.2643\n",
      "Epoch 40/100\n",
      "\u001b[1m2335/2335\u001b[0m \u001b[32m━━━━━━━━━━━━━━━━━━━━\u001b[0m\u001b[37m\u001b[0m \u001b[1m139s\u001b[0m 60ms/step - accuracy: 0.9377 - loss: 0.1849 - val_accuracy: 0.9231 - val_loss: 0.2619\n",
      "Model training completed\n",
      "Evaluating model on test set...\n",
      "\u001b[1m  1/532\u001b[0m \u001b[37m━━━━━━━━━━━━━━━━━━━━\u001b[0m \u001b[1m1:57\u001b[0m 221ms/step"
     ]
    },
    {
     "name": "stderr",
     "output_type": "stream",
     "text": [
      "2025-04-10 16:01:59.155298: E tensorflow/core/grappler/optimizers/meta_optimizer.cc:961] PluggableGraphOptimizer failed: INVALID_ARGUMENT: Failed to deserialize the `graph_buf`.\n"
     ]
    },
    {
     "name": "stdout",
     "output_type": "stream",
     "text": [
      "\u001b[1m532/532\u001b[0m \u001b[32m━━━━━━━━━━━━━━━━━━━━\u001b[0m\u001b[37m\u001b[0m \u001b[1m6s\u001b[0m 10ms/step\n",
      "Test Accuracy: 92.20%\n"
     ]
    },
    {
     "data": {
      "text/plain": [
       "1043"
      ]
     },
     "execution_count": 2,
     "metadata": {},
     "output_type": "execute_result"
    }
   ],
   "source": [
    "# Data augmentation\n",
    "data_augmentation = tf.keras.Sequential([\n",
    "    tf.keras.layers.RandomFlip(\"horizontal\"),\n",
    "    tf.keras.layers.RandomRotation(0.1),\n",
    "    tf.keras.layers.RandomZoom(0.1),\n",
    "])\n",
    "\n",
    "# Build a more powerful CNN model\n",
    "model = tf.keras.Sequential([\n",
    "    tf.keras.layers.Input(shape=(IMG_SIZE, IMG_SIZE, channels)),\n",
    "    data_augmentation,  # Add augmentation directly in the model\n",
    "    tf.keras.layers.Conv2D(32, (3, 3), activation='relu'),\n",
    "    tf.keras.layers.BatchNormalization(),\n",
    "    tf.keras.layers.MaxPooling2D((2, 2)),\n",
    "    \n",
    "    tf.keras.layers.Conv2D(64, (3, 3), activation='relu'),\n",
    "    tf.keras.layers.BatchNormalization(),\n",
    "    tf.keras.layers.MaxPooling2D((2, 2)),\n",
    "    \n",
    "    tf.keras.layers.Conv2D(128, (3, 3), activation='relu'),\n",
    "    tf.keras.layers.BatchNormalization(),\n",
    "    tf.keras.layers.MaxPooling2D((2, 2)),\n",
    "    \n",
    "    tf.keras.layers.Conv2D(256, (3, 3), activation='relu'),\n",
    "    tf.keras.layers.BatchNormalization(),\n",
    "    tf.keras.layers.MaxPooling2D((2, 2)),\n",
    "    \n",
    "    tf.keras.layers.Conv2D(512, (3, 3), activation='relu'),\n",
    "    tf.keras.layers.BatchNormalization(),\n",
    "    tf.keras.layers.MaxPooling2D((2, 2)),\n",
    "    \n",
    "    tf.keras.layers.Conv2D(1024, (3, 3), activation='relu'),\n",
    "    tf.keras.layers.BatchNormalization(),\n",
    "    # tf.keras.layers.MaxPooling2D((2, 2)),\n",
    "    \n",
    "    tf.keras.layers.Flatten(),\n",
    "    \n",
    "    tf.keras.layers.Dense(2048, activation='relu'),\n",
    "    tf.keras.layers.Dropout(0.5),\n",
    "    \n",
    "    tf.keras.layers.Dense(10, activation='softmax')  # 10 categories\n",
    "])\n",
    "\n",
    "# Compile with a lower learning rate for better convergence\n",
    "optimizer = tf.keras.optimizers.Adam(learning_rate=0.0001)\n",
    "model.compile(optimizer=optimizer,\n",
    "              loss='sparse_categorical_crossentropy',\n",
    "              metrics=['accuracy'])\n",
    "\n",
    "# Train the model with more epochs\n",
    "print(\"Training CNN model...\")\n",
    "early_stopping = EarlyStopping(monitor='val_accuracy', patience=5, restore_best_weights=True)\n",
    "history = model.fit(X_train, y_train, epochs=100, batch_size=32, validation_split=0.1, callbacks=[early_stopping])\n",
    "\n",
    "print(\"Model training completed\")\n",
    "\n",
    "# Evaluate on test set\n",
    "print(\"Evaluating model on test set...\")\n",
    "test_predictions = model.predict(X_test)\n",
    "test_predictions = np.argmax(test_predictions, axis=1)\n",
    "test_accuracy = accuracy_score(y_test, test_predictions)\n",
    "print(f\"Test Accuracy: {test_accuracy * 100:.2f}%\")\n",
    "\n",
    "del X_train, y_train\n",
    "gc.collect()\n",
    "\n"
   ]
  }
 ],
 "metadata": {
  "kernelspec": {
   "display_name": "base",
   "language": "python",
   "name": "python3"
  },
  "language_info": {
   "codemirror_mode": {
    "name": "ipython",
    "version": 3
   },
   "file_extension": ".py",
   "mimetype": "text/x-python",
   "name": "python",
   "nbconvert_exporter": "python",
   "pygments_lexer": "ipython3",
   "version": "3.12.7"
  }
 },
 "nbformat": 4,
 "nbformat_minor": 5
}
